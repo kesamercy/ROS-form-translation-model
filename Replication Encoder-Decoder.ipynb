{
 "cells": [
  {
   "cell_type": "code",
   "execution_count": 1,
   "metadata": {},
   "outputs": [
    {
     "name": "stderr",
     "output_type": "stream",
     "text": [
      "Using TensorFlow backend.\n"
     ]
    }
   ],
   "source": [
    "import pandas as pd\n",
    "import numpy as np\n",
    "import string\n",
    "from string import digits\n",
    "import matplotlib.pyplot as plt\n",
    "%matplotlib inline\n",
    "import re\n",
    "from sklearn.utils import shuffle\n",
    "from sklearn.model_selection import train_test_split\n",
    "from keras.layers import Input, LSTM, Embedding, Dense\n",
    "from keras.models import Model"
   ]
  },
  {
   "cell_type": "code",
   "execution_count": 2,
   "metadata": {},
   "outputs": [
    {
     "data": {
      "text/html": [
       "<div>\n",
       "<style scoped>\n",
       "    .dataframe tbody tr th:only-of-type {\n",
       "        vertical-align: middle;\n",
       "    }\n",
       "\n",
       "    .dataframe tbody tr th {\n",
       "        vertical-align: top;\n",
       "    }\n",
       "\n",
       "    .dataframe thead th {\n",
       "        text-align: right;\n",
       "    }\n",
       "</style>\n",
       "<table border=\"1\" class=\"dataframe\">\n",
       "  <thead>\n",
       "    <tr style=\"text-align: right;\">\n",
       "      <th></th>\n",
       "      <th>source</th>\n",
       "      <th>target</th>\n",
       "      <th>comments</th>\n",
       "    </tr>\n",
       "  </thead>\n",
       "  <tbody>\n",
       "    <tr>\n",
       "      <th>52</th>\n",
       "      <td>Any breast lumps, pain or soreness?</td>\n",
       "      <td>कोई स्तन गांठ, दर्द या कष्ट?</td>\n",
       "      <td>CC-BY 2.0 (France) Attribution: tatoeba.org #1...</td>\n",
       "    </tr>\n",
       "    <tr>\n",
       "      <th>90</th>\n",
       "      <td>Any lesions or sores?</td>\n",
       "      <td>कोई घाव?</td>\n",
       "      <td>CC-BY 2.0 (France) Attribution: tatoeba.org #6...</td>\n",
       "    </tr>\n",
       "    <tr>\n",
       "      <th>29</th>\n",
       "      <td>Neck</td>\n",
       "      <td>गरदन</td>\n",
       "      <td>CC-BY 2.0 (France) Attribution: tatoeba.org #4...</td>\n",
       "    </tr>\n",
       "    <tr>\n",
       "      <th>35</th>\n",
       "      <td>Any pain when you take a deep breath?</td>\n",
       "      <td>कोई भी दर्द जब आप एक गहरी सांस लेते हैं?</td>\n",
       "      <td>CC-BY 2.0 (France) Attribution: tatoeba.org #1...</td>\n",
       "    </tr>\n",
       "    <tr>\n",
       "      <th>38</th>\n",
       "      <td>Have you been exposed to anyone with tuberculo...</td>\n",
       "      <td>क्या आप तपेदिक के साथ किसी के संपर्क में हैं?</td>\n",
       "      <td>CC-BY 2.0 (France) Attribution: tatoeba.org #1...</td>\n",
       "    </tr>\n",
       "    <tr>\n",
       "      <th>59</th>\n",
       "      <td>Any heartburn?</td>\n",
       "      <td>कोई अम्लशूल?</td>\n",
       "      <td>CC-BY 2.0 (France) Attribution: tatoeba.org #3...</td>\n",
       "    </tr>\n",
       "  </tbody>\n",
       "</table>\n",
       "</div>"
      ],
      "text/plain": [
       "                                               source  \\\n",
       "52                Any breast lumps, pain or soreness?   \n",
       "90                              Any lesions or sores?   \n",
       "29                                               Neck   \n",
       "35              Any pain when you take a deep breath?   \n",
       "38  Have you been exposed to anyone with tuberculo...   \n",
       "59                                     Any heartburn?   \n",
       "\n",
       "                                           target  \\\n",
       "52                   कोई स्तन गांठ, दर्द या कष्ट?   \n",
       "90                                       कोई घाव?   \n",
       "29                                           गरदन   \n",
       "35       कोई भी दर्द जब आप एक गहरी सांस लेते हैं?   \n",
       "38  क्या आप तपेदिक के साथ किसी के संपर्क में हैं?   \n",
       "59                                   कोई अम्लशूल?   \n",
       "\n",
       "                                             comments  \n",
       "52  CC-BY 2.0 (France) Attribution: tatoeba.org #1...  \n",
       "90  CC-BY 2.0 (France) Attribution: tatoeba.org #6...  \n",
       "29  CC-BY 2.0 (France) Attribution: tatoeba.org #4...  \n",
       "35  CC-BY 2.0 (France) Attribution: tatoeba.org #1...  \n",
       "38  CC-BY 2.0 (France) Attribution: tatoeba.org #1...  \n",
       "59  CC-BY 2.0 (France) Attribution: tatoeba.org #3...  "
      ]
     },
     "execution_count": 2,
     "metadata": {},
     "output_type": "execute_result"
    }
   ],
   "source": [
    "# Path to the data txt file on disk.\n",
    "data_path = \"hindi.txt\"\n",
    "# open the file eng-spa.txt and read\n",
    "lines= pd.read_table(data_path,  names =['source', 'target', 'comments'])\n",
    "#printing sample data from lines\n",
    "lines.sample(6)"
   ]
  },
  {
   "cell_type": "code",
   "execution_count": 4,
   "metadata": {},
   "outputs": [
    {
     "data": {
      "text/html": [
       "<div>\n",
       "<style scoped>\n",
       "    .dataframe tbody tr th:only-of-type {\n",
       "        vertical-align: middle;\n",
       "    }\n",
       "\n",
       "    .dataframe tbody tr th {\n",
       "        vertical-align: top;\n",
       "    }\n",
       "\n",
       "    .dataframe thead th {\n",
       "        text-align: right;\n",
       "    }\n",
       "</style>\n",
       "<table border=\"1\" class=\"dataframe\">\n",
       "  <thead>\n",
       "    <tr style=\"text-align: right;\">\n",
       "      <th></th>\n",
       "      <th>source</th>\n",
       "      <th>target</th>\n",
       "      <th>comments</th>\n",
       "    </tr>\n",
       "  </thead>\n",
       "  <tbody>\n",
       "    <tr>\n",
       "      <th>0</th>\n",
       "      <td>general</td>\n",
       "      <td>सामान्य</td>\n",
       "      <td>CC-BY 2.0 (France) Attribution: tatoeba.org #2...</td>\n",
       "    </tr>\n",
       "    <tr>\n",
       "      <th>1</th>\n",
       "      <td>any recent chills night sweats or fever</td>\n",
       "      <td>किसी भी हाल में ठंड लगना रात को पसीना या बुखार</td>\n",
       "      <td>CC-BY 2.0 (France) Attribution: tatoeba.org #9...</td>\n",
       "    </tr>\n",
       "    <tr>\n",
       "      <th>2</th>\n",
       "      <td>have you gained or lost weight without trying</td>\n",
       "      <td>क्या आपने बिना प्रयास किए वजन घटाया या प्राप्त...</td>\n",
       "      <td>CC-BY 2.0 (France) Attribution: tatoeba.org #9...</td>\n",
       "    </tr>\n",
       "    <tr>\n",
       "      <th>3</th>\n",
       "      <td>have you been tired</td>\n",
       "      <td>क्या आप थक गए हैं</td>\n",
       "      <td>CC-BY 2.0 (France) Attribution: tatoeba.org #9...</td>\n",
       "    </tr>\n",
       "    <tr>\n",
       "      <th>4</th>\n",
       "      <td>skin</td>\n",
       "      <td>त्वचा</td>\n",
       "      <td>CC-BY 2.0 (France) Attribution: tatoeba.org #2...</td>\n",
       "    </tr>\n",
       "    <tr>\n",
       "      <th>...</th>\n",
       "      <td>...</td>\n",
       "      <td>...</td>\n",
       "      <td>...</td>\n",
       "    </tr>\n",
       "    <tr>\n",
       "      <th>88</th>\n",
       "      <td>any pain with sex</td>\n",
       "      <td>सेक्स के साथ कोई दर्द</td>\n",
       "      <td>CC-BY 2.0 (France) Attribution: tatoeba.org #6...</td>\n",
       "    </tr>\n",
       "    <tr>\n",
       "      <th>89</th>\n",
       "      <td>any itching rash or discharge</td>\n",
       "      <td>कोई खुजली दाने या डिस्चार्ज</td>\n",
       "      <td>CC-BY 2.0 (France) Attribution: tatoeba.org #1...</td>\n",
       "    </tr>\n",
       "    <tr>\n",
       "      <th>90</th>\n",
       "      <td>any lesions or sores</td>\n",
       "      <td>कोई घाव</td>\n",
       "      <td>CC-BY 2.0 (France) Attribution: tatoeba.org #6...</td>\n",
       "    </tr>\n",
       "    <tr>\n",
       "      <th>91</th>\n",
       "      <td>any hernias</td>\n",
       "      <td>कोई हर्निया</td>\n",
       "      <td>CC-BY 2.0 (France) Attribution: tatoeba.org #6...</td>\n",
       "    </tr>\n",
       "    <tr>\n",
       "      <th>92</th>\n",
       "      <td>females any problems with your menses date of ...</td>\n",
       "      <td>महिलाओं आपके मासिक धर्म के साथ कोई समस्या आपके...</td>\n",
       "      <td>CC-BY 2.0 (France) Attribution: tatoeba.org #6...</td>\n",
       "    </tr>\n",
       "  </tbody>\n",
       "</table>\n",
       "<p>93 rows × 3 columns</p>\n",
       "</div>"
      ],
      "text/plain": [
       "                                               source  \\\n",
       "0                                             general   \n",
       "1             any recent chills night sweats or fever   \n",
       "2       have you gained or lost weight without trying   \n",
       "3                                 have you been tired   \n",
       "4                                                skin   \n",
       "..                                                ...   \n",
       "88                                  any pain with sex   \n",
       "89                      any itching rash or discharge   \n",
       "90                               any lesions or sores   \n",
       "91                                        any hernias   \n",
       "92  females any problems with your menses date of ...   \n",
       "\n",
       "                                               target  \\\n",
       "0                                             सामान्य   \n",
       "1      किसी भी हाल में ठंड लगना रात को पसीना या बुखार   \n",
       "2   क्या आपने बिना प्रयास किए वजन घटाया या प्राप्त...   \n",
       "3                                   क्या आप थक गए हैं   \n",
       "4                                               त्वचा   \n",
       "..                                                ...   \n",
       "88                              सेक्स के साथ कोई दर्द   \n",
       "89                        कोई खुजली दाने या डिस्चार्ज   \n",
       "90                                            कोई घाव   \n",
       "91                                        कोई हर्निया   \n",
       "92  महिलाओं आपके मासिक धर्म के साथ कोई समस्या आपके...   \n",
       "\n",
       "                                             comments  \n",
       "0   CC-BY 2.0 (France) Attribution: tatoeba.org #2...  \n",
       "1   CC-BY 2.0 (France) Attribution: tatoeba.org #9...  \n",
       "2   CC-BY 2.0 (France) Attribution: tatoeba.org #9...  \n",
       "3   CC-BY 2.0 (France) Attribution: tatoeba.org #9...  \n",
       "4   CC-BY 2.0 (France) Attribution: tatoeba.org #2...  \n",
       "..                                                ...  \n",
       "88  CC-BY 2.0 (France) Attribution: tatoeba.org #6...  \n",
       "89  CC-BY 2.0 (France) Attribution: tatoeba.org #1...  \n",
       "90  CC-BY 2.0 (France) Attribution: tatoeba.org #6...  \n",
       "91  CC-BY 2.0 (France) Attribution: tatoeba.org #6...  \n",
       "92  CC-BY 2.0 (France) Attribution: tatoeba.org #6...  \n",
       "\n",
       "[93 rows x 3 columns]"
      ]
     },
     "execution_count": 4,
     "metadata": {},
     "output_type": "execute_result"
    }
   ],
   "source": [
    "# convert source and target text to Lowercase \n",
    "lines.source=lines.source.apply(lambda x: x.lower())\n",
    "lines.target=lines.target.apply(lambda x: x.lower())\n",
    "# Remove quotes from source and target text\n",
    "lines.source=lines.source.apply(lambda x: re.sub(\"'\", '', x))\n",
    "lines.target=lines.target.apply(lambda x: re.sub(\"'\", '', x))\n",
    "# create a set of all special characters\n",
    "special_characters= set(string.punctuation)\n",
    "# Remove all the special characters\n",
    "lines.source = lines.source.apply(lambda x: ''.join(char1 for char1 in x if char1 not in special_characters))\n",
    "lines.target = lines.target.apply(lambda x: ''.join(char1 for char1 in x if char1 not in special_characters))\n",
    "# Remove digits from source and target sentences\n",
    "num_digits= str.maketrans('','', digits)\n",
    "lines.source=lines.source.apply(lambda x: x.translate(num_digits))\n",
    "lines.target= lines.target.apply(lambda x: x.translate(num_digits))\n",
    "# Remove extra spaces\n",
    "lines.source=lines.source.apply(lambda x: x.strip())\n",
    "lines.target=lines.target.apply(lambda x: x.strip())\n",
    "lines.source=lines.source.apply(lambda x: re.sub(\" +\", \" \", x))\n",
    "lines.target=lines.target.apply(lambda x: re.sub(\" +\", \" \", x))\n",
    "\n",
    "lines"
   ]
  },
  {
   "cell_type": "code",
   "execution_count": 5,
   "metadata": {},
   "outputs": [
    {
     "data": {
      "text/html": [
       "<div>\n",
       "<style scoped>\n",
       "    .dataframe tbody tr th:only-of-type {\n",
       "        vertical-align: middle;\n",
       "    }\n",
       "\n",
       "    .dataframe tbody tr th {\n",
       "        vertical-align: top;\n",
       "    }\n",
       "\n",
       "    .dataframe thead th {\n",
       "        text-align: right;\n",
       "    }\n",
       "</style>\n",
       "<table border=\"1\" class=\"dataframe\">\n",
       "  <thead>\n",
       "    <tr style=\"text-align: right;\">\n",
       "      <th></th>\n",
       "      <th>source</th>\n",
       "      <th>target</th>\n",
       "      <th>comments</th>\n",
       "    </tr>\n",
       "  </thead>\n",
       "  <tbody>\n",
       "    <tr>\n",
       "      <th>86</th>\n",
       "      <td>malefemale genitalia</td>\n",
       "      <td>START_ पुरुष महिला गुप्तांग _END</td>\n",
       "      <td>CC-BY 2.0 (France) Attribution: tatoeba.org #1...</td>\n",
       "    </tr>\n",
       "    <tr>\n",
       "      <th>76</th>\n",
       "      <td>any muscle cramping or pain</td>\n",
       "      <td>START_ किसी भी मांसपेशियों में ऐंठन या दर्द _END</td>\n",
       "      <td>CC-BY 2.0 (France) Attribution: tatoeba.org #1...</td>\n",
       "    </tr>\n",
       "    <tr>\n",
       "      <th>89</th>\n",
       "      <td>any itching rash or discharge</td>\n",
       "      <td>START_ कोई खुजली दाने या डिस्चार्ज _END</td>\n",
       "      <td>CC-BY 2.0 (France) Attribution: tatoeba.org #1...</td>\n",
       "    </tr>\n",
       "    <tr>\n",
       "      <th>22</th>\n",
       "      <td>do you wear a hearing aid</td>\n",
       "      <td>START_ क्या आप हियरिंग एड पहनते हैं _END</td>\n",
       "      <td>CC-BY 2.0 (France) Attribution: tatoeba.org #1...</td>\n",
       "    </tr>\n",
       "    <tr>\n",
       "      <th>30</th>\n",
       "      <td>any lumps or bumps in your neck</td>\n",
       "      <td>START_ आपके गले में कोई गांठ _END</td>\n",
       "      <td>CC-BY 2.0 (France) Attribution: tatoeba.org #4...</td>\n",
       "    </tr>\n",
       "    <tr>\n",
       "      <th>52</th>\n",
       "      <td>any breast lumps pain or soreness</td>\n",
       "      <td>START_ कोई स्तन गांठ दर्द या कष्ट _END</td>\n",
       "      <td>CC-BY 2.0 (France) Attribution: tatoeba.org #1...</td>\n",
       "    </tr>\n",
       "  </tbody>\n",
       "</table>\n",
       "</div>"
      ],
      "text/plain": [
       "                               source  \\\n",
       "86               malefemale genitalia   \n",
       "76        any muscle cramping or pain   \n",
       "89      any itching rash or discharge   \n",
       "22          do you wear a hearing aid   \n",
       "30    any lumps or bumps in your neck   \n",
       "52  any breast lumps pain or soreness   \n",
       "\n",
       "                                              target  \\\n",
       "86                  START_ पुरुष महिला गुप्तांग _END   \n",
       "76  START_ किसी भी मांसपेशियों में ऐंठन या दर्द _END   \n",
       "89           START_ कोई खुजली दाने या डिस्चार्ज _END   \n",
       "22          START_ क्या आप हियरिंग एड पहनते हैं _END   \n",
       "30                 START_ आपके गले में कोई गांठ _END   \n",
       "52            START_ कोई स्तन गांठ दर्द या कष्ट _END   \n",
       "\n",
       "                                             comments  \n",
       "86  CC-BY 2.0 (France) Attribution: tatoeba.org #1...  \n",
       "76  CC-BY 2.0 (France) Attribution: tatoeba.org #1...  \n",
       "89  CC-BY 2.0 (France) Attribution: tatoeba.org #1...  \n",
       "22  CC-BY 2.0 (France) Attribution: tatoeba.org #1...  \n",
       "30  CC-BY 2.0 (France) Attribution: tatoeba.org #4...  \n",
       "52  CC-BY 2.0 (France) Attribution: tatoeba.org #1...  "
      ]
     },
     "execution_count": 5,
     "metadata": {},
     "output_type": "execute_result"
    }
   ],
   "source": [
    "# Add start and end tokens to target sequences\n",
    "lines.target = lines.target.apply(lambda x : 'START_ '+ x + ' _END')\n",
    "lines.sample(6)"
   ]
  },
  {
   "cell_type": "code",
   "execution_count": 6,
   "metadata": {},
   "outputs": [],
   "source": [
    "# Find all the source and target words and sort them\n",
    "# Vocabulary of Source language\n",
    "all_source_words=set()\n",
    "for source in lines.source:\n",
    "    for word in source.split():\n",
    "        if word not in all_source_words:\n",
    "            all_source_words.add(word)\n",
    "# Vocabulary of Target \n",
    "all_target_words=set()\n",
    "for target in lines.target:\n",
    "    for word in target.split():\n",
    "        if word not in all_target_words:\n",
    "            all_target_words.add(word)\n",
    "# sort all unique source and target words\n",
    "source_words= sorted(list(all_source_words))\n",
    "target_words=sorted(list(all_target_words))"
   ]
  },
  {
   "cell_type": "code",
   "execution_count": 7,
   "metadata": {},
   "outputs": [
    {
     "name": "stdout",
     "output_type": "stream",
     "text": [
      " Max length of the source sentence 17\n",
      " Max length of the target sentence 25\n"
     ]
    }
   ],
   "source": [
    "#Find maximum sentence length in  the source and target data\n",
    "source_length_list=[]\n",
    "for l in lines.source:\n",
    "    source_length_list.append(len(l.split(' ')))\n",
    "max_source_length= max(source_length_list)\n",
    "print(\" Max length of the source sentence\",max_source_length)\n",
    "target_length_list=[]\n",
    "for l in lines.target:\n",
    "    target_length_list.append(len(l.split(' ')))\n",
    "max_target_length= max(target_length_list)\n",
    "print(\" Max length of the target sentence\",max_target_length)"
   ]
  },
  {
   "cell_type": "code",
   "execution_count": 8,
   "metadata": {},
   "outputs": [],
   "source": [
    "# creating a word to index(word2idx) for source and target\n",
    "source_word2idx= dict([(word, i+1) for i,word in enumerate(source_words)])\n",
    "target_word2idx=dict([(word, i+1) for i, word in enumerate(target_words)])"
   ]
  },
  {
   "cell_type": "code",
   "execution_count": 9,
   "metadata": {},
   "outputs": [
    {
     "name": "stdout",
     "output_type": "stream",
     "text": [
      "{1: 'a', 2: 'acheabdominal', 3: 'aid', 4: 'amounts', 5: 'and', 6: 'any', 7: 'anyone', 8: 'anywhere', 9: 'are', 10: 'areas', 11: 'arms', 12: 'at', 13: 'awake', 14: 'back', 15: 'balance', 16: 'beats', 17: 'bed', 18: 'been', 19: 'belly', 20: 'better', 21: 'black', 22: 'bleeding', 23: 'blood', 24: 'bloody', 25: 'blurred', 26: 'breast', 27: 'breasts', 28: 'breath', 29: 'breathing', 30: 'bruise', 31: 'bumps', 32: 'burning', 33: 'buttocks', 34: 'can', 35: 'cannot', 36: 'change', 37: 'changed', 38: 'changes', 39: 'chest', 40: 'chestrespiratory', 41: 'chills', 42: 'color', 43: 'congestion', 44: 'constipation', 45: 'contacts', 46: 'coordination', 47: 'cough', 48: 'cramping', 49: 'cvs', 50: 'date', 51: 'deep', 52: 'depressed', 53: 'diarrhea', 54: 'discharge', 55: 'dizziness', 56: 'do', 57: 'does', 58: 'doing', 59: 'don’t', 60: 'double', 61: 'down', 62: 'drive', 63: 'dry', 64: 'ear', 65: 'ears', 66: 'easily', 67: 'eg', 68: 'ever', 69: 'exercise', 70: 'exertion', 71: 'exposed', 72: 'eyes', 73: 'fainted', 74: 'falls', 75: 'far', 76: 'feel', 77: 'females', 78: 'fever', 79: 'fingers', 80: 'flanks', 81: 'flat', 82: 'food', 83: 'frequency', 84: 'frequent', 85: 'from', 86: 'gained', 87: 'gallstones', 88: 'gastrointestinal', 89: 'general', 90: 'genitalia', 91: 'genitourinary', 92: 'get', 93: 'glasses', 94: 'gums', 95: 'had', 96: 'hair', 97: 'have', 98: 'having', 99: 'head', 100: 'headache', 101: 'headaches', 102: 'heal', 103: 'hear', 104: 'hearing', 105: 'heart', 106: 'heartburn', 107: 'heat', 108: 'hepatitis', 109: 'hernias', 110: 'history', 111: 'hoarseness', 112: 'how', 113: 'in', 114: 'increase', 115: 'infections', 116: 'insomnia', 117: 'intolerance', 118: 'it', 119: 'itching', 120: 'itchy', 121: 'joint', 122: 'last', 123: 'leg', 124: 'legs', 125: 'lesions', 126: 'lie', 127: 'lightheadedness', 128: 'like', 129: 'limited', 130: 'loose', 131: 'loss', 132: 'lost', 133: 'lumps', 134: 'malefemale', 135: 'mammogram', 136: 'many', 137: 'memory', 138: 'menses', 139: 'menstrual', 140: 'moles', 141: 'mood', 142: 'morning', 143: 'mouth', 144: 'movement', 145: 'mucus', 146: 'murmur', 147: 'muscle', 148: 'musculoskeletal', 149: 'nails', 150: 'nausea', 151: 'neck', 152: 'need', 153: 'neuropsych', 154: 'night', 155: 'nipple', 156: 'nose', 157: 'not', 158: 'numbness', 159: 'of', 160: 'or', 161: 'out', 162: 'pain', 163: 'pains', 164: 'pap', 165: 'passed', 166: 'people', 167: 'period', 168: 'phlegm', 169: 'pleasure', 170: 'problem', 171: 'problems', 172: 'production', 173: 'races', 174: 'rash', 175: 'rashes', 176: 'recent', 177: 'redness', 178: 'rest', 179: 'rheumatic', 180: 'ringing', 181: 'room', 182: 'runny', 183: 'see', 184: 'severity', 185: 'sex', 186: 'shape', 187: 'short', 188: 'shortness', 189: 'size', 190: 'skin', 191: 'skips', 192: 'small', 193: 'sneezing', 194: 'sore', 195: 'soreness', 196: 'sores', 197: 'spinning', 198: 'stiffness', 199: 'stool', 200: 'stop', 201: 'sweats', 202: 'swelling', 203: 'take', 204: 'tarry', 205: 'teeth', 206: 'test', 207: 'that', 208: 'the', 209: 'then', 210: 'there', 211: 'things', 212: 'throat', 213: 'times', 214: 'tingling', 215: 'tired', 216: 'to', 217: 'toes', 218: 'told', 219: 'trauma', 220: 'trouble', 221: 'trying', 222: 'tuberculosis', 223: 'tubes', 224: 'up', 225: 'urinate', 226: 'urination', 227: 'urine', 228: 'varicose', 229: 'vascular', 230: 'veins', 231: 'vision', 232: 'vomiting', 233: 'walk', 234: 'was', 235: 'watering', 236: 'weakness', 237: 'wear', 238: 'weight', 239: 'when', 240: 'with', 241: 'without', 242: 'you', 243: 'your'}\n"
     ]
    }
   ],
   "source": [
    "#creating a dictionary for index to word for source and target vocabulary\n",
    "source_idx2word= dict([(i, word) for word, i in  source_word2idx.items()])\n",
    "print(source_idx2word)\n",
    "target_idx2word =dict([(i, word) for word, i in target_word2idx.items()])"
   ]
  },
  {
   "cell_type": "code",
   "execution_count": 10,
   "metadata": {},
   "outputs": [],
   "source": [
    "#Shuffle the data\n",
    "lines = shuffle(lines)"
   ]
  },
  {
   "cell_type": "code",
   "execution_count": 12,
   "metadata": {},
   "outputs": [
    {
     "data": {
      "text/plain": [
       "((88,), (5,))"
      ]
     },
     "execution_count": 12,
     "metadata": {},
     "output_type": "execute_result"
    }
   ],
   "source": [
    "# Train - Test Split\n",
    "X, y = lines.source, lines.target\n",
    "X_train, X_test, y_train, y_test = train_test_split(X, y, test_size = 0.05)\n",
    "X_train.shape, X_test.shape"
   ]
  },
  {
   "cell_type": "code",
   "execution_count": 13,
   "metadata": {},
   "outputs": [],
   "source": [
    "# Input tokens for encoder\n",
    "num_encoder_tokens=len(source_words)\n",
    "# Input tokens for decoder zero padded\n",
    "num_decoder_tokens=len(target_words) +1"
   ]
  },
  {
   "cell_type": "code",
   "execution_count": 16,
   "metadata": {},
   "outputs": [],
   "source": [
    "def generate_batch(X = X_train, y = y_train, batch_size = 128):\n",
    " ''' Generate a batch of data '''\n",
    " while True:\n",
    "        for j in range(0, len(X), batch_size):\n",
    "            encoder_input_data = np.zeros((batch_size, max_source_length),dtype='float32')\n",
    "            decoder_input_data = np.zeros((batch_size, max_target_length),dtype='float32')\n",
    "            decoder_target_data = np.zeros((batch_size, max_target_length, num_decoder_tokens),dtype='float32')\n",
    "        for i, (input_text, target_text) in enumerate(zip(X[j:j+batch_size], y[j:j+batch_size])):\n",
    "            for t, word in enumerate(input_text.split()):\n",
    "                encoder_input_data[i, t] = source_word2idx[word] \n",
    "            for t, word in enumerate(target_text.split()):\n",
    "                if t<len(target_text.split())-1:\n",
    "                    decoder_input_data[i, t] = target_word2idx[word] # decoder input seq\n",
    "                    if t>0:\n",
    " # decoder target sequence (one hot encoded)\n",
    " # does not include the START_ token\n",
    " # Offset by one timestep\n",
    " #print(word)\n",
    "                        decoder_target_data[i, t - 1, target_word2idx[word]] = 1.\n",
    "        yield([encoder_input_data, decoder_input_data], decoder_target_data)"
   ]
  },
  {
   "cell_type": "code",
   "execution_count": 54,
   "metadata": {},
   "outputs": [],
   "source": [
    "train_samples = len(X_train)\n",
    "val_samples = len(X_test)\n",
    "batch_size = 1\n",
    "epochs = 10\n",
    "latent_dim=358"
   ]
  },
  {
   "cell_type": "code",
   "execution_count": 55,
   "metadata": {},
   "outputs": [],
   "source": [
    "# Define an input sequence and process it.\n",
    "encoder_inputs = Input(shape=(None,))\n",
    "enc_emb = Embedding(num_encoder_tokens, latent_dim, mask_zero = True)(encoder_inputs)\n",
    "encoder_lstm = LSTM(latent_dim, return_state=True)\n",
    "encoder_outputs, state_h, state_c = encoder_lstm(enc_emb)# We discard `encoder_outputs` and only keep the states.\n",
    "encoder_states = [state_h, state_c]"
   ]
  },
  {
   "cell_type": "code",
   "execution_count": 56,
   "metadata": {},
   "outputs": [],
   "source": [
    "# Set up the decoder, using `encoder_states` as initial state.\n",
    "decoder_inputs = Input(shape=(None,))\n",
    "dec_emb_layer = Embedding(num_decoder_tokens, latent_dim, mask_zero = True)\n",
    "dec_emb = dec_emb_layer(decoder_inputs)# We set up our decoder to return full output sequences,\n",
    "# and to return internal states as well. We don't use the\n",
    "# return states in the training model, but we will use them in inference.\n",
    "decoder_lstm = LSTM(latent_dim, return_sequences=True, return_state=True)\n",
    "decoder_outputs, _, _ = decoder_lstm(dec_emb,\n",
    " initial_state=encoder_states)\n",
    "decoder_dense = Dense(num_decoder_tokens, activation='softmax')\n",
    "decoder_outputs = decoder_dense(decoder_outputs)"
   ]
  },
  {
   "cell_type": "code",
   "execution_count": 57,
   "metadata": {},
   "outputs": [],
   "source": [
    "# Encode the input sequence to get the \"Context vectors\"\n",
    "encoder_model = Model(encoder_inputs, encoder_states)# Decoder setup\n",
    "# Below tensors will hold the states of the previous time step\n",
    "decoder_state_input_h = Input(shape=(latent_dim,))\n",
    "decoder_state_input_c = Input(shape=(latent_dim,))\n",
    "decoder_state_input = [decoder_state_input_h, decoder_state_input_c]# Get the embeddings of the decoder sequence\n",
    "dec_emb2= dec_emb_layer(decoder_inputs)# To predict the next word in the sequence, set the initial states to the states from the previous time step\n",
    "decoder_outputs2, state_h2, state_c2 = decoder_lstm(dec_emb2, initial_state=decoder_state_input)\n",
    "decoder_states2 = [state_h2, state_c2]\n",
    "# A dense softmax layer to generate prob dist. over the target vocabulary\n",
    "decoder_outputs2 = decoder_dense(decoder_outputs2)# Final decoder model\n",
    "decoder_model = Model(\n",
    " [decoder_inputs] + decoder_state_input,\n",
    " [decoder_outputs2] + decoder_states2)"
   ]
  },
  {
   "cell_type": "code",
   "execution_count": 58,
   "metadata": {},
   "outputs": [],
   "source": [
    "def decode_sequence(input_seq):\n",
    "    # Encode the input as state vectors.\n",
    "    states_value = encoder_model.predict(input_seq)\n",
    "    # Generate empty target sequence of length 1.\n",
    "    target_seq = np.zeros((1,1))\n",
    "    # Populate the first character of \n",
    "    #target sequence with the start character.\n",
    "    target_seq[0, 0] = target_word2idx['START_']\n",
    "    # Sampling loop for a batch of sequences\n",
    "    # (to simplify, here we assume a batch of size 1).\n",
    "    stop_condition = False\n",
    "    decoded_sentence = ''\n",
    "    while not stop_condition:\n",
    "        output_tokens, h, c = decoder_model.predict([target_seq] + states_value)\n",
    "        # Sample a token\n",
    "        sampled_token_index = np.argmax(output_tokens[0, -1, :])\n",
    "        sampled_word =target_idx2word[sampled_token_index]\n",
    "        decoded_sentence += ' '+ sampled_word# Exit condition: either hit max length\n",
    "        # or find stop character.\n",
    "        if (sampled_word == '_END' or\n",
    "            len(decoded_sentence) > 50):\n",
    "            stop_condition = True# Update the target sequence (of length 1).\n",
    "            target_seq = np.zeros((1,1))\n",
    "            target_seq[0, 0] = sampled_token_index# Update states\n",
    "            states_value = [h, c]\n",
    "    return decoded_sentence"
   ]
  },
  {
   "cell_type": "code",
   "execution_count": 59,
   "metadata": {},
   "outputs": [
    {
     "name": "stdout",
     "output_type": "stream",
     "text": [
      "Input English sentence as per data: any weakness\n",
      "Actual Hindi Translation as per data:  कोई कमजोरी \n",
      "Predicted Hindi Translation predicted by model:  यह यह यह यह यह यह यह यह यह यह यह यह यह यह यह य\n"
     ]
    }
   ],
   "source": [
    "train_gen = generate_batch(X_train, y_train, batch_size = 1)\n",
    "k=-1\n",
    "k+=1\n",
    "(input_seq, actual_output), _ = next(train_gen)\n",
    "decoded_sentence = decode_sequence(input_seq)\n",
    "print('Input English sentence as per data:', X_train[k:k+1].values[0])\n",
    "print('Actual Hindi Translation as per data:', y_train[k:k+1].values[0][6:-4])\n",
    "print('Predicted Hindi Translation predicted by model:', decoded_sentence[:-4])"
   ]
  },
  {
   "cell_type": "code",
   "execution_count": 61,
   "metadata": {},
   "outputs": [
    {
     "name": "stdout",
     "output_type": "stream",
     "text": [
      "Input Source sentence: any cough or phlegm production\n",
      "Actual Target Translation:  कोई खांसी या कफ का उत्पादन \n",
      "Predicted Target Translation:  गैस्ट्रोइंटेस्टाइनल गैस्ट्रोइंटेस्टाइनल गैस्ट्रोइंटेस्ट\n"
     ]
    }
   ],
   "source": [
    "test_gen = generate_batch(X_test, y_test, batch_size = 1)\n",
    "k=1\n",
    "k+=1\n",
    "(input_seq, actual_output), _ = next(test_gen)\n",
    "decoded_sentence = decode_sequence(input_seq)\n",
    "print('Input Source sentence:', X_test[k:k+1].values[0])\n",
    "print('Actual Target Translation:', y_test[k:k+1].values[0][6:-4])\n",
    "print('Predicted Target Translation:', decoded_sentence[:-4])"
   ]
  },
  {
   "cell_type": "code",
   "execution_count": null,
   "metadata": {},
   "outputs": [],
   "source": []
  }
 ],
 "metadata": {
  "kernelspec": {
   "display_name": "Python 3",
   "language": "python",
   "name": "python3"
  },
  "language_info": {
   "codemirror_mode": {
    "name": "ipython",
    "version": 3
   },
   "file_extension": ".py",
   "mimetype": "text/x-python",
   "name": "python",
   "nbconvert_exporter": "python",
   "pygments_lexer": "ipython3",
   "version": "3.7.6"
  }
 },
 "nbformat": 4,
 "nbformat_minor": 4
}
